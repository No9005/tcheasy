{
 "cells": [
  {
   "cell_type": "markdown",
   "id": "904b5dbe",
   "metadata": {},
   "source": [
    "# **tcheasy** with dict declarations\n",
    "\n",
    "**tcheasy** is able to receive and work with a completely custom dict.<br> The only thing you have to do is to write all those declarations of your parameters. <br>\n",
    "This looks like a hughe effort, but believe me, once in flesh and blood and you can do powerfull stuff! <br>\n",
    "<br>\n",
    "But before we dive in some basics (and the import!):"
   ]
  },
  {
   "cell_type": "code",
   "execution_count": 3,
   "id": "8804fb6d",
   "metadata": {},
   "outputs": [],
   "source": [
    "# import tcheasy\n",
    "from tcheasy import tcheasy"
   ]
  },
  {
   "cell_type": "markdown",
   "id": "cad3a164",
   "metadata": {},
   "source": [
    "<br>\n",
    "<br>\n",
    "\n",
    "## tcheasy's dict structure\n",
    "\n",
    "The structure of the dict is always the same. There are basically three main keywords:\n",
    "- `positional`: All parameters that are not declared as \\*args or \\*\\*kwargs.\n",
    "- `args`: All parameters that are not explicit defined within your function (--> the typical `, *args` solution during defining your function).\n",
    "- `kwargs`: All keyword bounded parameters which are not explicit defined whint your function (--> the `, **kwargs` part of your function).\n",
    "\n",
    "Each of those keywords accept a specific dict as value. <br>\n",
    "The cool about it: The structure of the dict for `positional` and `kwargs` is the same! <br>\n",
    "<br>"
   ]
  },
  {
   "cell_type": "markdown",
   "id": "43b7fee8",
   "metadata": {},
   "source": [
    "<br>\n",
    "\n",
    "## `positional` & `kwargs` dict structure\n",
    "\n",
    "Let's look first at the structure of the of `positional` and `kwargs`:"
   ]
  },
  {
   "cell_type": "code",
   "execution_count": 2,
   "id": "4dc94eb3",
   "metadata": {},
   "outputs": [],
   "source": [
    "# an example dict for an parameter called 'your_parameter'\n",
    "pos_kwargs = {\n",
    "    'your_parameter':{\n",
    "        'type':int,\n",
    "        'default':5,\n",
    "        'restriction':\"value > 4\"\n",
    "    }\n",
    "}"
   ]
  },
  {
   "cell_type": "markdown",
   "id": "900b3a52",
   "metadata": {},
   "source": [
    "As you can see, the dict is a nested dict. In within this dict, you can specify for each of your parameters the structure. <br>\n",
    "The parameter name is the key (in the example the `your_parameter`) and the value is the declaration. <br>\n",
    "I will tell what the declaration actually means in a second, but first lets have a look at the inner keywords. These are: \n",
    "- `type`: the python type of the parameter\n",
    "- `default`: the default value if no parameter is passed (this will actually overwrite the functions default!)\n",
    "- `restriction`: The boundries the parameter input has to meet.\n",
    "\n",
    "<br>\n",
    "\n",
    "The only mandatory keyword is the `type`. The rest is optional:"
   ]
  },
  {
   "cell_type": "code",
   "execution_count": 4,
   "id": "2d0bf789",
   "metadata": {},
   "outputs": [
    {
     "ename": "AssertionError",
     "evalue": "Missing 'type' definition in 'positional': 'a'.",
     "output_type": "error",
     "traceback": [
      "\u001b[0;31m---------------------------------------------------------------------------\u001b[0m",
      "\u001b[0;31mAssertionError\u001b[0m                            Traceback (most recent call last)",
      "Input \u001b[0;32mIn [4]\u001b[0m, in \u001b[0;36m<module>\u001b[0;34m\u001b[0m\n\u001b[1;32m      1\u001b[0m \u001b[38;5;66;03m# create a declaration without 'type':\u001b[39;00m\n\u001b[1;32m      2\u001b[0m toCheck \u001b[38;5;241m=\u001b[39m {\n\u001b[1;32m      3\u001b[0m     \u001b[38;5;124m'\u001b[39m\u001b[38;5;124mpositional\u001b[39m\u001b[38;5;124m'\u001b[39m:{\n\u001b[1;32m      4\u001b[0m         \u001b[38;5;124m'\u001b[39m\u001b[38;5;124ma\u001b[39m\u001b[38;5;124m'\u001b[39m:{\n\u001b[0;32m   (...)\u001b[0m\n\u001b[1;32m      7\u001b[0m     }\n\u001b[1;32m      8\u001b[0m }\n\u001b[0;32m---> 10\u001b[0m \u001b[38;5;129m@tcheasy\u001b[39m\u001b[43m(\u001b[49m\u001b[43mtoCheck\u001b[49m\u001b[43m)\u001b[49m\n\u001b[1;32m     11\u001b[0m \u001b[38;5;28;01mdef\u001b[39;00m \u001b[38;5;21mwill_not_work\u001b[39m(a):\n\u001b[1;32m     12\u001b[0m     \u001b[38;5;124;03m\"\"\"Will not work! \"\"\"\u001b[39;00m\n\u001b[1;32m     13\u001b[0m     \u001b[38;5;28;01mreturn\u001b[39;00m \u001b[38;5;124m\"\u001b[39m\u001b[38;5;124mYou will never see this!\u001b[39m\u001b[38;5;124m\"\u001b[39m\n",
      "File \u001b[0;32m~/git/tcheasy/tcheasy/type_check.py:764\u001b[0m, in \u001b[0;36mtcheasy\u001b[0;34m(to_check, debug)\u001b[0m\n\u001b[1;32m    760\u001b[0m         \u001b[38;5;28;01mexcept\u001b[39;00m \u001b[38;5;167;01mException\u001b[39;00m \u001b[38;5;28;01mas\u001b[39;00m e: \u001b[38;5;28;01mpass\u001b[39;00m\n\u001b[1;32m    763\u001b[0m \u001b[38;5;66;03m# raise globally the exception\u001b[39;00m\n\u001b[0;32m--> 764\u001b[0m \u001b[38;5;28;01mif\u001b[39;00m raiseException: \u001b[38;5;28;01mraise\u001b[39;00m \u001b[38;5;167;01mAssertionError\u001b[39;00m(error)\n\u001b[1;32m    766\u001b[0m \u001b[38;5;66;03m#endregion\u001b[39;00m\n\u001b[1;32m    769\u001b[0m \u001b[38;5;28;01mdef\u001b[39;00m \u001b[38;5;21mdecorator\u001b[39m(func):\n",
      "\u001b[0;31mAssertionError\u001b[0m: Missing 'type' definition in 'positional': 'a'."
     ]
    }
   ],
   "source": [
    "# create a declaration without 'type':\n",
    "toCheck = {\n",
    "    'positional':{\n",
    "        'a':{\n",
    "            'default':5\n",
    "        }\n",
    "    }\n",
    "}\n",
    "\n",
    "# create the function\n",
    "@tcheasy(toCheck)\n",
    "def will_not_work(a):\n",
    "    \"\"\"Will not work! \"\"\"\n",
    "    return \"You will never see this!\""
   ]
  },
  {
   "cell_type": "markdown",
   "id": "13a7bcf8",
   "metadata": {},
   "source": [
    "<p><small><em> Sorry for all of you who will try to run the notebook in one go! </em></small></p> <br>\n",
    "<br>\n",
    "As you can see, **tcheasy** throws an exception, telling you that it misses the `type` definition for the `positional` parameter `a`. <br>\n",
    "<br>\n",
    "Now that we saw how to not do it, lets do it the right way:"
   ]
  },
  {
   "cell_type": "code",
   "execution_count": 5,
   "id": "54ec0caa",
   "metadata": {},
   "outputs": [],
   "source": [
    "# create a correct declaration\n",
    "toCheck = {\n",
    "    'positional':{\n",
    "        'a':{\n",
    "            'type':int,\n",
    "            'restriction':\"value > 5\"\n",
    "        }\n",
    "    }\n",
    "}\n",
    "\n",
    "# create the function\n",
    "@tcheasy(toCheck)\n",
    "def will_work(a):\n",
    "    \"\"\"This will work! \"\"\"\n",
    "    return a"
   ]
  },
  {
   "cell_type": "markdown",
   "id": "67541dc1",
   "metadata": {},
   "source": [
    "See? No exception (although we did remove the keyword `default`)."
   ]
  },
  {
   "cell_type": "code",
   "execution_count": 6,
   "id": "d51e1bd2",
   "metadata": {},
   "outputs": [
    {
     "data": {
      "text/plain": [
       "{'success': False,\n",
       " 'error': \"[K.3]: The parameter 'a' does not meet the restriction 'value > 5'. Value is currently '4'.\"}"
      ]
     },
     "execution_count": 6,
     "metadata": {},
     "output_type": "execute_result"
    }
   ],
   "source": [
    "# call the function\n",
    "will_work(4)"
   ]
  },
  {
   "cell_type": "markdown",
   "id": "ba425649",
   "metadata": {},
   "source": [
    "Uff.. But why did we not get the parameter input? <br>\n",
    "Well, you did pass a int value which did not meat the restriction. (Remember, we did specify the `restriction` to be `value > 5`... and 4 is definitely not greater!). <br>\n",
    "<br>\n",
    "The `restrictions` is actually built in the way, that you can pass an condition check like you would in an `if` statement. The only exception is, that **tcheasy** inserts the passed function parameter at runtime into the `value` keyword. <br>\n",
    "<br>\n",
    "So, in our example, the statement `value > 5` becomes during runtime `assert(a > 5)`. <br>\n",
    "<br>\n",
    "Let's try it:"
   ]
  },
  {
   "cell_type": "code",
   "execution_count": 9,
   "id": "b4909f4f",
   "metadata": {},
   "outputs": [
    {
     "data": {
      "text/plain": [
       "6"
      ]
     },
     "execution_count": 9,
     "metadata": {},
     "output_type": "execute_result"
    }
   ],
   "source": [
    "will_work(a=6)"
   ]
  },
  {
   "cell_type": "markdown",
   "id": "d8e6b47d",
   "metadata": {},
   "source": [
    "As I told ya! As soon as `a` meets the restriction, the function runs. <br>\n",
    "Once you master this concept you can build pretty complex restrictions! <br>\n",
    "<br>\n",
    "Rember! `positional` and `kwargs` are built with the same structure:"
   ]
  },
  {
   "cell_type": "code",
   "execution_count": 18,
   "id": "2c537495",
   "metadata": {},
   "outputs": [],
   "source": [
    "# a full example with multiple types\n",
    "toCheck = {\n",
    "    'positional':{\n",
    "        'first_param':{\n",
    "            'type':bool\n",
    "        },\n",
    "        'second_param':{\n",
    "            'type':int,\n",
    "            'restriction':\"value == 3\",\n",
    "            'default':3\n",
    "        }\n",
    "    },\n",
    "    'kwargs':{\n",
    "        'z':{\n",
    "            'type':float,\n",
    "            'restriction':\"value > .5\"\n",
    "        }\n",
    "    }\n",
    "}"
   ]
  },
  {
   "cell_type": "markdown",
   "id": "8ee079b9",
   "metadata": {},
   "source": [
    "Now switch to `args`! <br>\n",
    "<br>\n",
    "<br>\n",
    "\n",
    "## The structure of `args`\n",
    "\n",
    "First things first: <br>\n",
    "`args` uses the same keywords to declare its parameters! <br>\n",
    "But why bother with a new structure then? <br>\n",
    "Well, \\*args are by nature without any keywords (e.g. `some_function(pos, pos, args, args, args, kwargs=value)` ). Therefore they are order sensitive. And this is represented by the structure (aka form follows function!). <br>\n",
    "<br>\n",
    "Within the `args` each parameter is put into a list:"
   ]
  },
  {
   "cell_type": "code",
   "execution_count": 19,
   "id": "6ec5da1d",
   "metadata": {},
   "outputs": [],
   "source": [
    "# only 'args' with multiple keywords:\n",
    "\n",
    "only_args:{\n",
    "    'args':[\n",
    "        {'type':int, 'default':5, 'restriction':\"value < 2\"},\n",
    "        {'type':bool},\n",
    "        {'type':float, 'restriction': \"value < -2.\"}\n",
    "    ]\n",
    "}"
   ]
  },
  {
   "cell_type": "markdown",
   "id": "e53bad0a",
   "metadata": {},
   "source": [
    "As you can see, the declaration is basically the same dict as for `positional` and `kwargs` but lives now inside a list. And this list has to be sorted according to the appearance your potential \\*args!"
   ]
  },
  {
   "cell_type": "code",
   "execution_count": null,
   "id": "61fc528b",
   "metadata": {},
   "outputs": [],
   "source": [
    "# example"
   ]
  },
  {
   "cell_type": "code",
   "execution_count": null,
   "id": "3508e4bc",
   "metadata": {},
   "outputs": [],
   "source": []
  },
  {
   "cell_type": "code",
   "execution_count": null,
   "id": "387d29a1",
   "metadata": {},
   "outputs": [],
   "source": []
  },
  {
   "cell_type": "code",
   "execution_count": null,
   "id": "d8ab4652",
   "metadata": {},
   "outputs": [],
   "source": []
  },
  {
   "cell_type": "code",
   "execution_count": null,
   "id": "e257451f",
   "metadata": {},
   "outputs": [],
   "source": []
  },
  {
   "cell_type": "code",
   "execution_count": null,
   "id": "3244f4a7",
   "metadata": {},
   "outputs": [],
   "source": [
    "# to dos:\n",
    "- block wise!\n",
    "- default overwrites\n",
    "- hints do only apply if 'positional' not provided\n",
    "- define multiple types with ()\n",
    "- none type as type(none)"
   ]
  }
 ],
 "metadata": {
  "kernelspec": {
   "display_name": "Python 3 (ipykernel)",
   "language": "python",
   "name": "python3"
  },
  "language_info": {
   "codemirror_mode": {
    "name": "ipython",
    "version": 3
   },
   "file_extension": ".py",
   "mimetype": "text/x-python",
   "name": "python",
   "nbconvert_exporter": "python",
   "pygments_lexer": "ipython3",
   "version": "3.8.5"
  }
 },
 "nbformat": 4,
 "nbformat_minor": 5
}
