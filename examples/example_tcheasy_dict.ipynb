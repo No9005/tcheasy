{
 "cells": [
  {
   "cell_type": "markdown",
   "id": "904b5dbe",
   "metadata": {},
   "source": [
    "# **tcheasy** with dict declarations\n",
    "\n",
    "**tcheasy** is able to receive and work with a completely custom dict.<br> The only thing you have to do is to write all those declarations of your parameters. <br>\n",
    "This looks like a hughe effort, but believe me, once in flesh and blood and you can do powerfull stuff! <br>\n",
    "<br>\n",
    "But before we dive in some basics (and the import!):"
   ]
  },
  {
   "cell_type": "code",
   "execution_count": 1,
   "id": "8804fb6d",
   "metadata": {},
   "outputs": [],
   "source": [
    "# import tcheasy\n",
    "from tcheasy import tcheasy"
   ]
  },
  {
   "cell_type": "markdown",
   "id": "cad3a164",
   "metadata": {},
   "source": [
    "<br>\n",
    "<br>\n",
    "\n",
    "## tcheasy's dict structure\n",
    "\n",
    "The structure of the dict is always the same. There are basically three main keywords:\n",
    "- `positional`: All parameters that are not declared as \\*args or \\*\\*kwargs.\n",
    "- `args`: All parameters that are not explicit defined within your function (--> the typical `, *args` solution during defining your function).\n",
    "- `kwargs`: All keyword bounded parameters which are not explicit defined whint your function (--> the `, **kwargs` part of your function).\n",
    "\n",
    "Each of those keywords accept a specific dict as value. <br>\n",
    "The cool about it: The structure of the dict for `positional` and `kwargs` is the same! <br>\n",
    "<br>"
   ]
  },
  {
   "cell_type": "markdown",
   "id": "43b7fee8",
   "metadata": {},
   "source": [
    "<br>\n",
    "\n",
    "## `positional` & `kwargs` dict structure\n",
    "\n",
    "Let's look first at the structure of the of `positional` and `kwargs`:"
   ]
  },
  {
   "cell_type": "code",
   "execution_count": 2,
   "id": "4dc94eb3",
   "metadata": {},
   "outputs": [],
   "source": [
    "# an example dict for an parameter called 'your_parameter'\n",
    "pos_kwargs = {\n",
    "    'your_parameter':{\n",
    "        'type':int,\n",
    "        'default':5,\n",
    "        'restriction':\"value > 4\"\n",
    "    }\n",
    "}"
   ]
  },
  {
   "cell_type": "markdown",
   "id": "900b3a52",
   "metadata": {},
   "source": [
    "As you can see, the dict is a nested dict. In within this dict, you can specify for each of your parameters the structure. <br>\n",
    "The parameter name is the key (in the example the `your_parameter`) and the value is the declaration. <br>\n",
    "I will tell what the declaration actually means in a second, but first lets have a look at the inner keywords. These are: \n",
    "- `type`: the python type of the parameter\n",
    "- `default`: the default value if no parameter is passed (this will actually overwrite the functions default!)\n",
    "- `restriction`: The boundries the parameter input has to meet.\n",
    "\n",
    "<br>\n",
    "\n",
    "The only mandatory keyword is the `type`. The rest is optional:"
   ]
  },
  {
   "cell_type": "code",
   "execution_count": 3,
   "id": "2d0bf789",
   "metadata": {},
   "outputs": [
    {
     "ename": "AssertionError",
     "evalue": "Missing 'type' definition in 'positional': 'a'.",
     "output_type": "error",
     "traceback": [
      "\u001b[0;31m---------------------------------------------------------------------------\u001b[0m",
      "\u001b[0;31mAssertionError\u001b[0m                            Traceback (most recent call last)",
      "Input \u001b[0;32mIn [3]\u001b[0m, in \u001b[0;36m<module>\u001b[0;34m\u001b[0m\n\u001b[1;32m      2\u001b[0m toCheck \u001b[38;5;241m=\u001b[39m {\n\u001b[1;32m      3\u001b[0m     \u001b[38;5;124m'\u001b[39m\u001b[38;5;124mpositional\u001b[39m\u001b[38;5;124m'\u001b[39m:{\n\u001b[1;32m      4\u001b[0m         \u001b[38;5;124m'\u001b[39m\u001b[38;5;124ma\u001b[39m\u001b[38;5;124m'\u001b[39m:{\n\u001b[0;32m   (...)\u001b[0m\n\u001b[1;32m      7\u001b[0m     }\n\u001b[1;32m      8\u001b[0m }\n\u001b[1;32m     10\u001b[0m \u001b[38;5;66;03m# create the function\u001b[39;00m\n\u001b[0;32m---> 11\u001b[0m \u001b[38;5;129m@tcheasy\u001b[39m\u001b[43m(\u001b[49m\u001b[43mtoCheck\u001b[49m\u001b[43m)\u001b[49m\n\u001b[1;32m     12\u001b[0m \u001b[38;5;28;01mdef\u001b[39;00m \u001b[38;5;21mwill_not_work\u001b[39m(a):\n\u001b[1;32m     13\u001b[0m     \u001b[38;5;124;03m\"\"\"Will not work! \"\"\"\u001b[39;00m\n\u001b[1;32m     14\u001b[0m     \u001b[38;5;28;01mreturn\u001b[39;00m \u001b[38;5;124m\"\u001b[39m\u001b[38;5;124mYou will never see this!\u001b[39m\u001b[38;5;124m\"\u001b[39m\n",
      "File \u001b[0;32m~/git/tcheasy/tcheasy/type_check.py:783\u001b[0m, in \u001b[0;36mtcheasy\u001b[0;34m(to_check, debug)\u001b[0m\n\u001b[1;32m    779\u001b[0m         \u001b[38;5;28;01mexcept\u001b[39;00m \u001b[38;5;167;01mException\u001b[39;00m \u001b[38;5;28;01mas\u001b[39;00m e: \u001b[38;5;28;01mpass\u001b[39;00m\n\u001b[1;32m    782\u001b[0m \u001b[38;5;66;03m# raise globally the exception\u001b[39;00m\n\u001b[0;32m--> 783\u001b[0m \u001b[38;5;28;01mif\u001b[39;00m raiseException: \u001b[38;5;28;01mraise\u001b[39;00m \u001b[38;5;167;01mAssertionError\u001b[39;00m(error)\n\u001b[1;32m    785\u001b[0m \u001b[38;5;66;03m#endregion\u001b[39;00m\n\u001b[1;32m    788\u001b[0m \u001b[38;5;28;01mdef\u001b[39;00m \u001b[38;5;21mdecorator\u001b[39m(func):\n",
      "\u001b[0;31mAssertionError\u001b[0m: Missing 'type' definition in 'positional': 'a'."
     ]
    }
   ],
   "source": [
    "# create a declaration without 'type':\n",
    "toCheck = {\n",
    "    'positional':{\n",
    "        'a':{\n",
    "            'default':5\n",
    "        }\n",
    "    }\n",
    "}\n",
    "\n",
    "# create the function\n",
    "@tcheasy(toCheck)\n",
    "def will_not_work(a):\n",
    "    \"\"\"Will not work! \"\"\"\n",
    "    return \"You will never see this!\""
   ]
  },
  {
   "cell_type": "markdown",
   "id": "13a7bcf8",
   "metadata": {},
   "source": [
    "<p><small><em> Sorry for all of you who will try to run the notebook in one go! </em></small></p> <br>\n",
    "<br>\n",
    "As you can see, **tcheasy** throws an exception, telling you that it misses the `type` definition for the `positional` parameter `a`. <br>\n",
    "<br>\n",
    "Now that we saw how to not do it, lets do it the right way:"
   ]
  },
  {
   "cell_type": "code",
   "execution_count": 4,
   "id": "54ec0caa",
   "metadata": {},
   "outputs": [],
   "source": [
    "# create a correct declaration\n",
    "toCheck = {\n",
    "    'positional':{\n",
    "        'a':{\n",
    "            'type':int,\n",
    "            'restriction':\"value > 5\"\n",
    "        }\n",
    "    }\n",
    "}\n",
    "\n",
    "# create the function\n",
    "@tcheasy(toCheck)\n",
    "def will_work(a):\n",
    "    \"\"\"This will work! \"\"\"\n",
    "    return a"
   ]
  },
  {
   "cell_type": "markdown",
   "id": "67541dc1",
   "metadata": {},
   "source": [
    "See? No exception (although we did remove the keyword `default`)."
   ]
  },
  {
   "cell_type": "code",
   "execution_count": 5,
   "id": "d51e1bd2",
   "metadata": {},
   "outputs": [
    {
     "data": {
      "text/plain": [
       "{'success': False,\n",
       " 'error': \"[K.3]: The parameter 'a' does not meet the restriction 'value > 5'. Value is currently '4'.\"}"
      ]
     },
     "execution_count": 5,
     "metadata": {},
     "output_type": "execute_result"
    }
   ],
   "source": [
    "# call the function\n",
    "will_work(4)"
   ]
  },
  {
   "cell_type": "markdown",
   "id": "ba425649",
   "metadata": {},
   "source": [
    "Uff.. But why did we not get the parameter input? <br>\n",
    "Well, you did pass a int value which did not meat the restriction. (Remember, we did specify the `restriction` to be `value > 5`... and 4 is definitely not greater!). <br>\n",
    "<br>\n",
    "The `restrictions` is actually built in the way, that you can pass an condition check like you would in an `if` statement. The only exception is, that **tcheasy** inserts the passed function parameter at runtime into the `value` keyword. <br>\n",
    "<br>\n",
    "So, in our example, the statement `value > 5` becomes during runtime `assert(a > 5)`. <br>\n",
    "<br>\n",
    "Let's try it:"
   ]
  },
  {
   "cell_type": "code",
   "execution_count": 6,
   "id": "b4909f4f",
   "metadata": {},
   "outputs": [
    {
     "data": {
      "text/plain": [
       "6"
      ]
     },
     "execution_count": 6,
     "metadata": {},
     "output_type": "execute_result"
    }
   ],
   "source": [
    "will_work(a=6)"
   ]
  },
  {
   "cell_type": "markdown",
   "id": "d8e6b47d",
   "metadata": {},
   "source": [
    "As I told ya! As soon as `a` meets the restriction, the function runs. <br>\n",
    "Once you master this concept you can build pretty complex restrictions! <br>\n",
    "<br>\n",
    "Rember! `positional` and `kwargs` are built with the same structure:"
   ]
  },
  {
   "cell_type": "code",
   "execution_count": 7,
   "id": "2c537495",
   "metadata": {},
   "outputs": [],
   "source": [
    "# a full example with multiple types\n",
    "toCheck = {\n",
    "    'positional':{\n",
    "        'first_param':{\n",
    "            'type':bool\n",
    "        },\n",
    "        'second_param':{\n",
    "            'type':int,\n",
    "            'restriction':\"value == 3\",\n",
    "            'default':3\n",
    "        }\n",
    "    },\n",
    "    'kwargs':{\n",
    "        'z':{\n",
    "            'type':float,\n",
    "            'restriction':\"value > .5\"\n",
    "        }\n",
    "    }\n",
    "}"
   ]
  },
  {
   "cell_type": "markdown",
   "id": "8ee079b9",
   "metadata": {},
   "source": [
    "Now switch to `args`! <br>\n",
    "<br>\n",
    "<br>\n",
    "\n",
    "## The structure of `args`\n",
    "\n",
    "First things first: <br>\n",
    "`args` uses the same keywords to declare its parameters! <br>\n",
    "But why bother with a new structure then? <br>\n",
    "Well, \\*args are by nature without any keywords (e.g. `some_function(pos, pos, args, args, args, kwargs=value)` ). Therefore they are order sensitive. And this is represented by the structure (aka form follows function!). <br>\n",
    "<br>\n",
    "Within the `args` each parameter is put into a list:"
   ]
  },
  {
   "cell_type": "code",
   "execution_count": 8,
   "id": "6ec5da1d",
   "metadata": {},
   "outputs": [],
   "source": [
    "# only 'args' with multiple keywords:\n",
    "\n",
    "only_args:{\n",
    "    'args':[\n",
    "        {'type':int, 'default':5, 'restriction':\"value < 2\"},\n",
    "        {'type':bool},\n",
    "        {'type':float, 'restriction': \"value < -2.\"}\n",
    "    ]\n",
    "}"
   ]
  },
  {
   "cell_type": "markdown",
   "id": "e53bad0a",
   "metadata": {},
   "source": [
    "As you can see, the declaration is basically the same dict as for `positional` and `kwargs` but lives now inside a list. And this list has to be sorted according to the appearance your potential \\*args!"
   ]
  },
  {
   "cell_type": "code",
   "execution_count": 9,
   "id": "61fc528b",
   "metadata": {},
   "outputs": [],
   "source": [
    "# a example dict with two parameters\n",
    "toCheck = {\n",
    "    'args':[{'type':int}, {'type':bool}]\n",
    "}\n",
    "\n",
    "# create the function\n",
    "@tcheasy(toCheck)\n",
    "def only_args(*args):\n",
    "    \"\"\"Function returns the args \"\"\"\n",
    "    return args"
   ]
  },
  {
   "cell_type": "code",
   "execution_count": 10,
   "id": "3508e4bc",
   "metadata": {},
   "outputs": [
    {
     "data": {
      "text/plain": [
       "{'success': False,\n",
       " 'error': \"[A.2]: The '*args' parameter at position '1' needs to be a(n) bool.\"}"
      ]
     },
     "execution_count": 10,
     "metadata": {},
     "output_type": "execute_result"
    }
   ],
   "source": [
    "# call it\n",
    "only_args(5, 5)"
   ]
  },
  {
   "cell_type": "markdown",
   "id": "5d541db8",
   "metadata": {},
   "source": [
    "Each single \\*args was checked. Note that the error msg tells you that the parameter at position 1 is wrong. <br>\n",
    "**tcheasy** is not able to name the parameter because \\*args are never keyworded. Therefore it counts - beginning from the first \\*args onward - from zero to your positional idx. <br>\n",
    "To show you this in another example:"
   ]
  },
  {
   "cell_type": "code",
   "execution_count": 11,
   "id": "d8ab4652",
   "metadata": {},
   "outputs": [],
   "source": [
    "# new function, but this time with positionals\n",
    "@tcheasy(toCheck)\n",
    "def mixed(a, b, *args):\n",
    "    \"\"\"Function with additional positionals \"\"\"\n",
    "    return True"
   ]
  },
  {
   "cell_type": "code",
   "execution_count": 12,
   "id": "e257451f",
   "metadata": {},
   "outputs": [
    {
     "data": {
      "text/plain": [
       "{'success': False,\n",
       " 'error': \"[A.2]: The '*args' parameter at position '1' needs to be a(n) bool.\"}"
      ]
     },
     "execution_count": 12,
     "metadata": {},
     "output_type": "execute_result"
    }
   ],
   "source": [
    "# call it with wrong args (args will be: 10, 15); 15 is no bool!\n",
    "mixed(1,\"string\", 10, 15)"
   ]
  },
  {
   "cell_type": "markdown",
   "id": "fd26b87a",
   "metadata": {},
   "source": [
    "Even though the incorrect \\*args is on idx 3, it is relativ to the \\*args (in our example the (10,15)) the first idx. <br>\n",
    "<br>\n",
    "The previous example shows you also another core feature of **tcheasy**: the use of mixed dicts!"
   ]
  },
  {
   "cell_type": "markdown",
   "id": "0c7bcad4",
   "metadata": {},
   "source": [
    "<br>\n",
    "<br>\n",
    "\n",
    "# Mixed input checks\n",
    "You do not have to define everytime every 'block'. Sometimes you only want to check certain inputs. <br>\n",
    "In these cases, you just write the parameter type 'block' for the specific parameter group. <br>\n",
    "<br>\n",
    "For example: If you want only to check the \\*args (like in the previous example) you only pass a dict with `args` defined. <br>\n",
    "<br>\n",
    "There is one minor exception to keep in mind though: <br>\n",
    "Once a block is defined, you have to define every declared function variable! <br>\n",
    "So this does not work:"
   ]
  },
  {
   "cell_type": "code",
   "execution_count": 13,
   "id": "9e3b5506",
   "metadata": {},
   "outputs": [],
   "source": [
    "# create a dict with only positionals\n",
    "toCheck = {\n",
    "    'positional':{\n",
    "        'a':{'type':int}\n",
    "    }\n",
    "}\n",
    "\n",
    "# create a function with positionals a & b and some **kwargs\n",
    "@tcheasy(toCheck)\n",
    "def mixed_not_working(a, b, **kwargs):\n",
    "    \"\"\"Does not work! \"\"\"\n",
    "    return \"You will never see this!\""
   ]
  },
  {
   "cell_type": "code",
   "execution_count": 14,
   "id": "f9fd0128",
   "metadata": {},
   "outputs": [
    {
     "data": {
      "text/plain": [
       "{'success': False,\n",
       " 'error': \"[K.0]: Your passed parameter 'b' was not expected.\"}"
      ]
     },
     "execution_count": 14,
     "metadata": {},
     "output_type": "execute_result"
    }
   ],
   "source": [
    "# call it\n",
    "mixed_not_working(a=15, b=\"some-string\", kwargs_arg=\"some-kwargs\")"
   ]
  },
  {
   "cell_type": "markdown",
   "id": "33f02c12",
   "metadata": {},
   "source": [
    "In this case **tcheasy** did check if you expected a parameter `b` as a `positional` (but you did not, as your `positional` declaration stated). <br>\n",
    "This feature is kinda useless for `positional`s but interesting for `args` & `kwargs`. <br>\n",
    "<br>\n",
    "Consider for example the following example: <br>\n",
    "You just want to pass the input of one function as \\*\\*kwargs to another. After reworking some parts of your follow up function, you see that the needed parameter changed. In this case you just pass another dict to **tcheasy** and you are done:"
   ]
  },
  {
   "cell_type": "code",
   "execution_count": 15,
   "id": "44382235",
   "metadata": {},
   "outputs": [],
   "source": [
    "# these are the parameters which are passed to your follow up\n",
    "params = {'omega':5, 'theta':\"someString\"}\n",
    "\n",
    "# this is the original declaration dict\n",
    "toCheck = {\n",
    "    'kwargs':{\n",
    "        'omega':{'type':int},\n",
    "        'theta':{'type':str}\n",
    "    }\n",
    "}\n",
    "\n",
    "# create your original follow up function\n",
    "@tcheasy(toCheck)\n",
    "def follow_up(**kwargs):\n",
    "    \"\"\"Return the passed kwargs\"\"\"\n",
    "    return kwargs"
   ]
  },
  {
   "cell_type": "code",
   "execution_count": 16,
   "id": "4efb2e70",
   "metadata": {},
   "outputs": [
    {
     "data": {
      "text/plain": [
       "{'omega': 5, 'theta': 'someString'}"
      ]
     },
     "execution_count": 16,
     "metadata": {},
     "output_type": "execute_result"
    }
   ],
   "source": [
    "# call it as intended\n",
    "follow_up(**params)"
   ]
  },
  {
   "cell_type": "code",
   "execution_count": 17,
   "id": "eb159351",
   "metadata": {},
   "outputs": [
    {
     "data": {
      "text/plain": [
       "{'success': False,\n",
       " 'error': \"[K.0]: Your passed parameter 'alpha' was not expected.\"}"
      ]
     },
     "execution_count": 17,
     "metadata": {},
     "output_type": "execute_result"
    }
   ],
   "source": [
    "# Now you change your 'follow_up' and need another variable\n",
    "params = {'omega':5, 'theta':\"someString\", 'alpha':.1}\n",
    "\n",
    "# call the function\n",
    "follow_up(**params)"
   ]
  },
  {
   "cell_type": "code",
   "execution_count": 18,
   "id": "4093e01b",
   "metadata": {},
   "outputs": [],
   "source": [
    "# changed inputs? Lets add the new one with an restriction\n",
    "toCheck = {\n",
    "    'kwargs':{\n",
    "        'omega':{'type':int},\n",
    "        'theta':{'type':str},\n",
    "        'alpha':{'type':float, 'restriction':\"value ==.1\"}\n",
    "    }\n",
    "}\n",
    "\n",
    "# just the copy of the above function\n",
    "@tcheasy(toCheck)\n",
    "def follow_up(**kwargs):\n",
    "    \"\"\"Return the passed kwargs\"\"\"\n",
    "    return kwargs"
   ]
  },
  {
   "cell_type": "code",
   "execution_count": 19,
   "id": "1eaf3d8c",
   "metadata": {},
   "outputs": [
    {
     "data": {
      "text/plain": [
       "{'omega': 5, 'theta': 'someString', 'alpha': 0.1}"
      ]
     },
     "execution_count": 19,
     "metadata": {},
     "output_type": "execute_result"
    }
   ],
   "source": [
    "# call the function again\n",
    "follow_up(**params)"
   ]
  },
  {
   "cell_type": "markdown",
   "id": "937426e2",
   "metadata": {},
   "source": [
    "You can also use a mix of python type hinting (for `positionals`) and the dict:"
   ]
  },
  {
   "cell_type": "code",
   "execution_count": 20,
   "id": "1ce562dd",
   "metadata": {},
   "outputs": [],
   "source": [
    "# a dict with only args\n",
    "toCheck = {\n",
    "    'args':[{'type':float}]\n",
    "}\n",
    "\n",
    "# create a function with positionals and *args\n",
    "@tcheasy(toCheck)\n",
    "def pos_and_args(a, b:str = \"default\", *args):\n",
    "    \"\"\"A mixed type function \"\"\"\n",
    "    return {'a':a, 'b':b, 'args':args}"
   ]
  },
  {
   "cell_type": "code",
   "execution_count": 21,
   "id": "79de62d5",
   "metadata": {},
   "outputs": [
    {
     "data": {
      "text/plain": [
       "{'a': 15, 'b': 'notTheDefault', 'args': (0.5,)}"
      ]
     },
     "execution_count": 21,
     "metadata": {},
     "output_type": "execute_result"
    }
   ],
   "source": [
    "# call the function\n",
    "pos_and_args(15, \"notTheDefault\", .5)"
   ]
  },
  {
   "cell_type": "code",
   "execution_count": 22,
   "id": "3e72b567",
   "metadata": {},
   "outputs": [
    {
     "data": {
      "text/plain": [
       "{'success': False, 'error': \"[K.2]: The parameter 'b' needs to be a(n) str.\"}"
      ]
     },
     "execution_count": 22,
     "metadata": {},
     "output_type": "execute_result"
    }
   ],
   "source": [
    "# call the function with wrong type for b\n",
    "pos_and_args(15, 1, .5)"
   ]
  },
  {
   "cell_type": "code",
   "execution_count": 23,
   "id": "71b6db87",
   "metadata": {},
   "outputs": [
    {
     "data": {
      "text/plain": [
       "{'success': False,\n",
       " 'error': \"[A.2]: The '*args' parameter at position '0' needs to be a(n) float.\"}"
      ]
     },
     "execution_count": 23,
     "metadata": {},
     "output_type": "execute_result"
    }
   ],
   "source": [
    "# call the function with wrong type for the args param\n",
    "pos_and_args(15, \"string\", 5)"
   ]
  },
  {
   "cell_type": "markdown",
   "id": "ea05c105",
   "metadata": {},
   "source": [
    "<br>\n",
    "<br>\n",
    "\n",
    "# Additional info\n",
    "\n",
    "There are some additional info to keep in mind:"
   ]
  },
  {
   "cell_type": "markdown",
   "id": "0c37e3b9",
   "metadata": {},
   "source": [
    "## Function defaults overwrit tcheasy defaults"
   ]
  },
  {
   "cell_type": "code",
   "execution_count": 24,
   "id": "ec70d278",
   "metadata": {},
   "outputs": [],
   "source": [
    "# function declared defaults overwrite tcheasy defaults\n",
    "toCheck = {\n",
    "    'positional':{\n",
    "        'a':{'type':int, 'default':10}\n",
    "    }\n",
    "}\n",
    "\n",
    "# create a function with positionals and *args\n",
    "@tcheasy(toCheck)\n",
    "def overwritten(a=15):\n",
    "    \"\"\"Return passed parameter \"\"\"\n",
    "    return a"
   ]
  },
  {
   "cell_type": "code",
   "execution_count": 25,
   "id": "5d8b8c08",
   "metadata": {},
   "outputs": [
    {
     "data": {
      "text/plain": [
       "15"
      ]
     },
     "execution_count": 25,
     "metadata": {},
     "output_type": "execute_result"
    }
   ],
   "source": [
    "# call it without passing a\n",
    "overwritten()"
   ]
  },
  {
   "cell_type": "markdown",
   "id": "245c5bc3",
   "metadata": {},
   "source": [
    "## Hints only used if `positional` is not provided"
   ]
  },
  {
   "cell_type": "code",
   "execution_count": 26,
   "id": "fa187489",
   "metadata": {},
   "outputs": [],
   "source": [
    "# hints only apply if 'positionals' not provided\n",
    "# function declared defaults overwrite tcheasy defaults\n",
    "toCheck = {\n",
    "    'positional':{\n",
    "        'a':{'type':int}\n",
    "    }\n",
    "}\n",
    "\n",
    "# create a function with positionals and *args\n",
    "@tcheasy(toCheck)\n",
    "def do_not_use_hints(a:str):\n",
    "    \"\"\"Return passed parameter \"\"\"\n",
    "    return a"
   ]
  },
  {
   "cell_type": "code",
   "execution_count": 27,
   "id": "9039e285",
   "metadata": {},
   "outputs": [
    {
     "data": {
      "text/plain": [
       "15"
      ]
     },
     "execution_count": 27,
     "metadata": {},
     "output_type": "execute_result"
    }
   ],
   "source": [
    "# call it --> a is not a string!\n",
    "do_not_use_hints(15)"
   ]
  },
  {
   "cell_type": "markdown",
   "id": "d2425cd7",
   "metadata": {},
   "source": [
    "## Multiple possible types"
   ]
  },
  {
   "cell_type": "code",
   "execution_count": 28,
   "id": "99219757",
   "metadata": {},
   "outputs": [],
   "source": [
    "# define multiple types in the tcheasy dict\n",
    "toCheck = {\n",
    "    'positional':{\n",
    "        'a':{'type':(int, float)}\n",
    "    }\n",
    "}\n",
    "\n",
    "# create a function with positionals and *args\n",
    "@tcheasy(toCheck)\n",
    "def multiple_types(a):\n",
    "    \"\"\"Return passed parameter \"\"\"\n",
    "    return a"
   ]
  },
  {
   "cell_type": "code",
   "execution_count": 29,
   "id": "4c1f3392",
   "metadata": {},
   "outputs": [
    {
     "data": {
      "text/plain": [
       "{'success': False,\n",
       " 'error': \"[K.2]: The parameter 'a' needs to be a(n) int | float.\"}"
      ]
     },
     "execution_count": 29,
     "metadata": {},
     "output_type": "execute_result"
    }
   ],
   "source": [
    "# call a as str\n",
    "multiple_types(\"a as string\")"
   ]
  },
  {
   "cell_type": "code",
   "execution_count": 30,
   "id": "ebd91b87",
   "metadata": {},
   "outputs": [
    {
     "data": {
      "text/plain": [
       "0.1051"
      ]
     },
     "execution_count": 30,
     "metadata": {},
     "output_type": "execute_result"
    }
   ],
   "source": [
    "# call a as float\n",
    "multiple_types(.10510)"
   ]
  },
  {
   "cell_type": "code",
   "execution_count": 31,
   "id": "678d6966",
   "metadata": {},
   "outputs": [
    {
     "data": {
      "text/plain": [
       "696"
      ]
     },
     "execution_count": 31,
     "metadata": {},
     "output_type": "execute_result"
    }
   ],
   "source": [
    "# call a as int\n",
    "multiple_types(696)"
   ]
  },
  {
   "cell_type": "markdown",
   "id": "bcfd4b1b",
   "metadata": {},
   "source": [
    "## Use None as type(None)"
   ]
  },
  {
   "cell_type": "code",
   "execution_count": 32,
   "id": "0c1271c7",
   "metadata": {},
   "outputs": [
    {
     "ename": "AssertionError",
     "evalue": "If you want to specify the 'type' None you have to pass it as type(None). Error in 'args' at position: '0'.",
     "output_type": "error",
     "traceback": [
      "\u001b[0;31m---------------------------------------------------------------------------\u001b[0m",
      "\u001b[0;31mAssertionError\u001b[0m                            Traceback (most recent call last)",
      "Input \u001b[0;32mIn [32]\u001b[0m, in \u001b[0;36m<module>\u001b[0;34m\u001b[0m\n\u001b[1;32m      2\u001b[0m toCheck \u001b[38;5;241m=\u001b[39m {\n\u001b[1;32m      3\u001b[0m     \u001b[38;5;124m'\u001b[39m\u001b[38;5;124margs\u001b[39m\u001b[38;5;124m'\u001b[39m:[{\u001b[38;5;124m'\u001b[39m\u001b[38;5;124mtype\u001b[39m\u001b[38;5;124m'\u001b[39m:\u001b[38;5;28;01mNone\u001b[39;00m}]\n\u001b[1;32m      4\u001b[0m }\n\u001b[1;32m      6\u001b[0m \u001b[38;5;66;03m# create a function with positionals and *args\u001b[39;00m\n\u001b[0;32m----> 7\u001b[0m \u001b[38;5;129m@tcheasy\u001b[39m\u001b[43m(\u001b[49m\u001b[43mtoCheck\u001b[49m\u001b[43m)\u001b[49m\n\u001b[1;32m      8\u001b[0m \u001b[38;5;28;01mdef\u001b[39;00m \u001b[38;5;21mwith_None\u001b[39m(\u001b[38;5;241m*\u001b[39margs):\n\u001b[1;32m      9\u001b[0m     \u001b[38;5;124;03m\"\"\"Return passed parameter \"\"\"\u001b[39;00m\n\u001b[1;32m     10\u001b[0m     \u001b[38;5;28;01mreturn\u001b[39;00m \u001b[38;5;28;01mTrue\u001b[39;00m\n",
      "File \u001b[0;32m~/git/tcheasy/tcheasy/type_check.py:783\u001b[0m, in \u001b[0;36mtcheasy\u001b[0;34m(to_check, debug)\u001b[0m\n\u001b[1;32m    779\u001b[0m         \u001b[38;5;28;01mexcept\u001b[39;00m \u001b[38;5;167;01mException\u001b[39;00m \u001b[38;5;28;01mas\u001b[39;00m e: \u001b[38;5;28;01mpass\u001b[39;00m\n\u001b[1;32m    782\u001b[0m \u001b[38;5;66;03m# raise globally the exception\u001b[39;00m\n\u001b[0;32m--> 783\u001b[0m \u001b[38;5;28;01mif\u001b[39;00m raiseException: \u001b[38;5;28;01mraise\u001b[39;00m \u001b[38;5;167;01mAssertionError\u001b[39;00m(error)\n\u001b[1;32m    785\u001b[0m \u001b[38;5;66;03m#endregion\u001b[39;00m\n\u001b[1;32m    788\u001b[0m \u001b[38;5;28;01mdef\u001b[39;00m \u001b[38;5;21mdecorator\u001b[39m(func):\n",
      "\u001b[0;31mAssertionError\u001b[0m: If you want to specify the 'type' None you have to pass it as type(None). Error in 'args' at position: '0'."
     ]
    }
   ],
   "source": [
    "# define input of variable as None\n",
    "toCheck = {\n",
    "    'args':[{'type':None}]\n",
    "}\n",
    "\n",
    "# create a function with positionals and *args\n",
    "@tcheasy(toCheck)\n",
    "def with_None(*args):\n",
    "    \"\"\"Return passed parameter \"\"\"\n",
    "    return True"
   ]
  },
  {
   "cell_type": "code",
   "execution_count": 33,
   "id": "269873b6",
   "metadata": {},
   "outputs": [],
   "source": [
    "# this time its correct\n",
    "toCheck = {\n",
    "    'args':[{'type':type(None)}]\n",
    "}\n",
    "\n",
    "# create a function with positionals and *args\n",
    "@tcheasy(toCheck)\n",
    "def with_None(*args):\n",
    "    \"\"\"Return passed parameter \"\"\"\n",
    "    return True"
   ]
  },
  {
   "cell_type": "markdown",
   "id": "4501b908",
   "metadata": {},
   "source": [
    "<br>\n",
    "<br>\n",
    "\n",
    "# That's it!\n",
    "Now you are ready to use **tcheasy**'s dict-type checks! <br>\n",
    "<br>\n",
    "If you need at any point help, just call `help(tcheasy)`"
   ]
  }
 ],
 "metadata": {
  "kernelspec": {
   "display_name": "Python 3 (ipykernel)",
   "language": "python",
   "name": "python3"
  },
  "language_info": {
   "codemirror_mode": {
    "name": "ipython",
    "version": 3
   },
   "file_extension": ".py",
   "mimetype": "text/x-python",
   "name": "python",
   "nbconvert_exporter": "python",
   "pygments_lexer": "ipython3",
   "version": "3.8.5"
  }
 },
 "nbformat": 4,
 "nbformat_minor": 5
}
