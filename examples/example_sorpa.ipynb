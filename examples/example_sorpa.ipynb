{
 "cells": [
  {
   "cell_type": "markdown",
   "id": "5accf95f",
   "metadata": {},
   "source": [
    "# Go Go Sorpa!\n",
    "\n",
    "<br>\n",
    "<img src=\"https://user-images.githubusercontent.com/52833906/149335771-cf8fd80b-aacb-49a9-9776-e16874cc016f.png\" style=\"width:50%;\">\n",
    "<br>\n",
    "<br>\n",
    "\n",
    "In this little example we are going to use `sorpa()` to get some information about the passed parameters of a function. <br>\n",
    "<br>\n",
    "The usage of `sorpa` is pretty straight forward. Just import it and you are ready to go:"
   ]
  },
  {
   "cell_type": "code",
   "execution_count": 1,
   "id": "793b2110",
   "metadata": {},
   "outputs": [],
   "source": [
    "# import sorpa\n",
    "from tcheasy import sorpa"
   ]
  },
  {
   "cell_type": "markdown",
   "id": "c26813fb",
   "metadata": {},
   "source": [
    "To get the elements of a function, just call `sorpa` within the functions body:"
   ]
  },
  {
   "cell_type": "code",
   "execution_count": 2,
   "id": "ae4b5c82",
   "metadata": {},
   "outputs": [],
   "source": [
    "# a function to get the parameters\n",
    "def analyse(a, b:int, *args, **kwargs):\n",
    "    \"\"\"Returns the info of sorpa \"\"\"\n",
    "    \n",
    "    # get the locals\n",
    "    loc = locals()\n",
    "    \n",
    "    # call sorpa(function-name, locals)\n",
    "    results = sorpa(analyse, loc, decorated=False)\n",
    "    \n",
    "    return results"
   ]
  },
  {
   "cell_type": "code",
   "execution_count": 3,
   "id": "ff3a5847",
   "metadata": {},
   "outputs": [
    {
     "data": {
      "text/plain": [
       "{'positional': {'a': 16, 'b': 2},\n",
       " 'args': (),\n",
       " 'kwargs': {'kwarg_arg': 'its-a-kwargs!'},\n",
       " 'hinting': {'b': int,\n",
       "  'a': (NoneType,\n",
       "   int,\n",
       "   float,\n",
       "   complex,\n",
       "   bool,\n",
       "   str,\n",
       "   list,\n",
       "   tuple,\n",
       "   dict,\n",
       "   set,\n",
       "   object)},\n",
       " 'declared': ['a', 'b', 'kwargs', 'args'],\n",
       " 'self': {'available':False, 'value':None}}"
      ]
     },
     "execution_count": 3,
     "metadata": {},
     "output_type": "execute_result"
    }
   ],
   "source": [
    "# lets call it\n",
    "analyse(a=16, b=2, kwarg_arg=\"its-a-kwargs!\")"
   ]
  },
  {
   "cell_type": "markdown",
   "id": "4eeb04a7",
   "metadata": {},
   "source": [
    "As you can see, you get the following information from `sorpa`:\n",
    "- **positional**: Tells you your positional declared variables (sorting insensitive!)\n",
    "- **args**: Your passed \\*args\n",
    "- **kwargs**: Your passed \\*\\*kwargs\n",
    "- **hinting**: your python hints for your positional parameters\n",
    "- **declared**: the declared elements of your function\n",
    "- **self**: Information about the 'self' parameter in class methods\n",
    "\n",
    "<br>\n",
    "\n",
    "> *Note:* <br>\n",
    "> *As in the example for **tcheasy** with hints mentioned, the type of a non-hinted parameter within hinted parameters (in our example the `a`) is assigned every supported type.* <br>\n",
    "> *Please refere to the **tcheasy** hint example for additional information*\n",
    "\n",
    "<br>\n",
    "\n",
    "The `decorated` parameter in the `sorpa` call just tells it, that it is called within a non decorated function. You should always keep this at `False`!\n",
    "\n",
    "<br>\n",
    "<br>\n",
    "\n",
    "# Closure\n",
    "Now you know how use `sorpa`!"
   ]
  }
 ],
 "metadata": {
  "kernelspec": {
   "display_name": "Python 3 (ipykernel)",
   "language": "python",
   "name": "python3"
  },
  "language_info": {
   "codemirror_mode": {
    "name": "ipython",
    "version": 3
   },
   "file_extension": ".py",
   "mimetype": "text/x-python",
   "name": "python",
   "nbconvert_exporter": "python",
   "pygments_lexer": "ipython3",
   "version": "3.8.5"
  }
 },
 "nbformat": 4,
 "nbformat_minor": 5
}
