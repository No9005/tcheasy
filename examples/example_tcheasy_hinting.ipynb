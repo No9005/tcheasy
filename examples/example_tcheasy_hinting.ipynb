{
 "cells": [
  {
   "cell_type": "markdown",
   "metadata": {},
   "source": [
    "# Test **tcheasy** with `python type hinting`\n",
    "This notebook shows some examples for the usage of tcheasy utilizing the python hinting. <br>\n",
    "As already mentioned on the landing page, not all types are supported.\n",
    "\n",
    "Currently the following types are supported:\n",
    "- **NoneType(s)**: None\n",
    "- **number types**: int, float, complex, bool\n",
    "- **sequence types**: str, list, tuple\n",
    "- **mapping types**: dict\n",
    "- **set types**: sets\n",
    "- **callable types**: object\n",
    "- **`typing`-module types**: typing.Any, typing.Union\n",
    "\n",
    "Maybe there will be new types added in the future. <br>\n",
    "<br>\n",
    "Anyway. <br>\n",
    "Another thing to keep in mind is the fact, that you are only able to use **tcheasy** and hints with the positional parameters. You are able to hint \\*args & \\**kwargs, but **tcheasy** flat out ignores it. <br>\n",
    "The reason for this is that **tcheasy** would not be able to guess the upcoming (e.g.) \\**kwargs variables by the hint of:<br>\n",
    "\n",
    "<br>\n",
    "\n",
    "```python\n",
    "def kwargs_hint(**kwargs:int)\n",
    "```\n",
    "\n",
    "<br>\n",
    "\n",
    "This type of definition would be to restrictive. <br>\n",
    "\n",
    "So let's jump in and do some type checking!"
   ]
  },
  {
   "cell_type": "code",
   "execution_count": 1,
   "metadata": {},
   "outputs": [],
   "source": [
    "# import the tcheasy decorator\n",
    "from tcheasy import tcheasy"
   ]
  },
  {
   "cell_type": "code",
   "execution_count": 2,
   "metadata": {},
   "outputs": [],
   "source": [
    "# add the decorator to a function\n",
    "@tcheasy()\n",
    "def our_first_test(var1:str, var2:bool) -> bool:\n",
    "    \"\"\"Simple function which just returns True \"\"\"\n",
    "    \n",
    "    return True"
   ]
  },
  {
   "cell_type": "code",
   "execution_count": 3,
   "metadata": {},
   "outputs": [
    {
     "data": {
      "text/plain": [
       "True"
      ]
     },
     "execution_count": 3,
     "metadata": {},
     "output_type": "execute_result"
    }
   ],
   "source": [
    "# now lets call the function\n",
    "our_first_test(\"some-string\",False)"
   ]
  },
  {
   "cell_type": "code",
   "execution_count": 4,
   "metadata": {},
   "outputs": [
    {
     "data": {
      "text/plain": [
       "{'success': False,\n",
       " 'error': \"[K.2]: The parameter 'var1' needs to be a(n) str.\"}"
      ]
     },
     "execution_count": 4,
     "metadata": {},
     "output_type": "execute_result"
    }
   ],
   "source": [
    "# and now lets try to switch the types\n",
    "our_first_test(False,1)"
   ]
  },
  {
   "cell_type": "markdown",
   "metadata": {},
   "source": [
    "Boom! <br>\n",
    "As expected! <br>\n",
    "When we pass the correct types, the function runs and returns its normal return value. But if we mess up the correct types, the function returns a dict with additional info for the user. <br>\n",
    "<br>\n",
    "Normaly you catch those error messages and convert them into the ones you like and need for your app. <br>\n",
    "<br>\n",
    "Each error message comes also with an error code. In the example from above, we received the `[K.2]` code, which means 'wrong type'. <br>\n",
    "<br>\n",
    "A full list is provided within the function help."
   ]
  },
  {
   "cell_type": "code",
   "execution_count": 5,
   "metadata": {},
   "outputs": [
    {
     "name": "stdout",
     "output_type": "stream",
     "text": [
      "Help on function tcheasy in module tcheasy.type_check:\n",
      "\n",
      "tcheasy(to_check: dict = {}, debug: bool = False) -> Any\n",
      "    Type checks user input\n",
      "    \n",
      "    This function checks all passed types by\n",
      "    utilizing either a 'to_check' dict\n",
      "    or the python type hintings.\n",
      "    \n",
      "    NOTE:\n",
      "    Prior checking, the algorithmn sorts all\n",
      "    passed parameters into their correct \n",
      "    parameter type.\n",
      "    \n",
      "    There are three different python parameter\n",
      "    types considered (also used for the 'to_check'\n",
      "    definition; see below).\n",
      "        positional: default, keyword, positional\n",
      "            These parameters are your defined \n",
      "            parameters.\n",
      "                Example: def example(a, b = 2)\n",
      "        args: arbitrary positional\n",
      "            These parameters are basically *args.\n",
      "        kwargs: arbitrary keyword\n",
      "            These parameters are basically\n",
      "            **kwargs.\n",
      "    \n",
      "    The format of 'to_check' is\n",
      "    ------------------------------------------\n",
      "    \n",
      "        {\n",
      "            'positional':{\n",
      "                'parameter-name':{\n",
      "                    'type':type,\n",
      "                    'restriction':str,\n",
      "                    'default':default\n",
      "                }\n",
      "            }\n",
      "            'args':[\n",
      "                {\n",
      "                    'type':type,\n",
      "                    'default':default,\n",
      "                    'restriction':str\n",
      "                },\n",
      "                {...}, \n",
      "                ...\n",
      "                ],\n",
      "            'kwargs':{\n",
      "                'parameter-name':{\n",
      "                    'type':type,\n",
      "                    'restriction':str,\n",
      "                    'default':default\n",
      "                }\n",
      "            }\n",
      "        }\n",
      "    \n",
      "    ------------------------------------------\n",
      "    \n",
      "    If you define one parameter type block, \n",
      "    the algorithmn assumes that your declared\n",
      "    variables are all available during runtime.\n",
      "    (This means, you have to either provide \n",
      "    a complete declaration or skip the 'block'.)\n",
      "    \n",
      "    In most usecases you will specify only the\n",
      "    'positional' parameters (either by using\n",
      "    'to_check' or the type hints).\n",
      "    \n",
      "    If a parameter is not met by your decorator\n",
      "    definitions, it returns an error.\n",
      "    Possible errors are\n",
      "    ------------------------------------------\n",
      "    \n",
      "        [CODE]: [CONTENT - OVERVIEW]\n",
      "        ----------------------------\n",
      "        [A.0]: *args: not expected param\n",
      "        [A.1]: *args: missing param\n",
      "        [A.2]: *args: wrong type\n",
      "        [A.3]: *args: restriction not met\n",
      "        [K.0]: keyworded: not expected param\n",
      "        [K.1]: keyworded: missing param\n",
      "        [K.2]: keyworded: wrong type\n",
      "        [K.3]: keyworded: restriction not met\n",
      "        [K.4]: keyworded: unexpected error\n",
      "    \n",
      "    ------------------------------------------\n",
      "    \n",
      "    If all checks are passed, the decorated\n",
      "    function runs as you created it.\n",
      "    \n",
      "    CAUTION:\n",
      "    Keep in mind, that the 'args' have to be\n",
      "    provided in order of appearance.\n",
      "    \n",
      "    params:\n",
      "    -------\n",
      "    to_check : dict\n",
      "        A dictionary containing the \n",
      "        parameter declarations.\n",
      "            Format: see above.\n",
      "    debug : bool, optional\n",
      "        If True, the decorator prints\n",
      "        debug statements.\n",
      "        (default is False)\n",
      "    \n",
      "    \n",
      "    returns:\n",
      "    --------\n",
      "    dict | function return\n",
      "        If an assertion failed, the decorator\n",
      "        returns a dict with the information\n",
      "        about the failure.\n",
      "        If all assertions passed, the decorator\n",
      "        will return your function result.\n",
      "            Format:\n",
      "                dict: {\n",
      "                    'success':bool,\n",
      "                    'error':str\n",
      "                }\n",
      "\n"
     ]
    }
   ],
   "source": [
    "# get help!\n",
    "help(tcheasy)"
   ]
  },
  {
   "cell_type": "markdown",
   "metadata": {},
   "source": [
    "<br>\n",
    "<br>\n",
    "\n",
    "## Hints for \\*args & \\**kwargs\n",
    "As already mentioned, **tcheasy** will ignore any type hints for `*args` and `**kwargs`:"
   ]
  },
  {
   "cell_type": "code",
   "execution_count": 6,
   "metadata": {},
   "outputs": [],
   "source": [
    "# function with args and kwargs hints\n",
    "@tcheasy()\n",
    "def with_arbitrary_hints(var1:str, var2:bool, *args:int, **kwargs:float) -> bool:\n",
    "    \"\"\"Simple function which just returns True \"\"\"\n",
    "    \n",
    "    return True"
   ]
  },
  {
   "cell_type": "code",
   "execution_count": 7,
   "metadata": {},
   "outputs": [
    {
     "data": {
      "text/plain": [
       "True"
      ]
     },
     "execution_count": 7,
     "metadata": {},
     "output_type": "execute_result"
    }
   ],
   "source": [
    "# test the function --> *args & **kwargs (5 & z) should trigger\n",
    "with_arbitrary_hints(\"string\", False, 5, z=\"another-string\")"
   ]
  },
  {
   "cell_type": "markdown",
   "metadata": {},
   "source": [
    "... while when we call the same function and mess up the `var1` & `var2`:"
   ]
  },
  {
   "cell_type": "code",
   "execution_count": 8,
   "metadata": {},
   "outputs": [
    {
     "data": {
      "text/plain": [
       "{'success': False,\n",
       " 'error': \"[K.2]: The parameter 'var1' needs to be a(n) str.\"}"
      ]
     },
     "execution_count": 8,
     "metadata": {},
     "output_type": "execute_result"
    }
   ],
   "source": [
    "# messing around with var1 & var2\n",
    "with_arbitrary_hints(5, True, 5, z=6)"
   ]
  },
  {
   "cell_type": "markdown",
   "metadata": {},
   "source": [
    "<br>\n",
    "<br>\n",
    "\n",
    "## Hints with default values\n",
    "\n",
    "**tcheasy** also works with default values:"
   ]
  },
  {
   "cell_type": "code",
   "execution_count": 9,
   "metadata": {},
   "outputs": [],
   "source": [
    "# a example function with defaults, this time it returns the params\n",
    "@tcheasy()\n",
    "def with_defaults(a:bool = True, b = 2):\n",
    "    \"\"\"Simple function which just returns the passed params \"\"\"\n",
    "    return {'a':a, 'b':b}"
   ]
  },
  {
   "cell_type": "code",
   "execution_count": 10,
   "metadata": {},
   "outputs": [
    {
     "data": {
      "text/plain": [
       "{'a': True, 'b': 2}"
      ]
     },
     "execution_count": 10,
     "metadata": {},
     "output_type": "execute_result"
    }
   ],
   "source": [
    "# call the function without any arguments\n",
    "with_defaults()"
   ]
  },
  {
   "cell_type": "markdown",
   "metadata": {},
   "source": [
    "As you can see, the defaults were passed automatically. <br>\n",
    "Now we are going to pass `b`:"
   ]
  },
  {
   "cell_type": "code",
   "execution_count": 11,
   "metadata": {},
   "outputs": [
    {
     "data": {
      "text/plain": [
       "{'a': True, 'b': 15}"
      ]
     },
     "execution_count": 11,
     "metadata": {},
     "output_type": "execute_result"
    }
   ],
   "source": [
    "# now only pass b\n",
    "with_defaults(b=15)"
   ]
  },
  {
   "cell_type": "code",
   "execution_count": 12,
   "metadata": {},
   "outputs": [
    {
     "data": {
      "text/plain": [
       "{'success': False, 'error': \"[K.2]: The parameter 'a' needs to be a(n) bool.\"}"
      ]
     },
     "execution_count": 12,
     "metadata": {},
     "output_type": "execute_result"
    }
   ],
   "source": [
    "# pass wrong type for a\n",
    "with_defaults(a=13, b=True)"
   ]
  },
  {
   "cell_type": "markdown",
   "metadata": {},
   "source": [
    "<br>\n",
    "<br>\n",
    "\n",
    "## Mixed hinting\n",
    "As shown previously, you can mix parameters with and without hinting. In these cases **tcheasy** applies for the 'unhinted' parameters any default supported type (see the list at the top). <br>\n",
    "<br>\n",
    "To show you what this, lets build a function and activate the debug printings for **tcheasy**:"
   ]
  },
  {
   "cell_type": "code",
   "execution_count": 13,
   "metadata": {},
   "outputs": [],
   "source": [
    "# function with debug prints\n",
    "@tcheasy(debug=True)\n",
    "def debug(a, b:int):\n",
    "    \"\"\"Function which returns True\"\"\"\n",
    "    return True"
   ]
  },
  {
   "cell_type": "code",
   "execution_count": 14,
   "metadata": {},
   "outputs": [
    {
     "name": "stdout",
     "output_type": "stream",
     "text": [
      "SORTED:  {'positional': {'a': 15, 'b': 15}, 'args': [], 'kwargs': {}, 'hinting': {'b': <class 'int'>, 'a': (<class 'NoneType'>, <class 'int'>, <class 'float'>, <class 'complex'>, <class 'bool'>, <class 'str'>, <class 'list'>, <class 'tuple'>, <class 'dict'>, <class 'set'>, <class 'object'>)}, 'declared': ['a', 'b']}\n",
      "FLAGS:  {'positional': True, 'args': False, 'kwargs': False}\n",
      "MOD: {'positional': {'b': 15, 'a': 15}, 'args': [], 'kwargs': {}, 'hinting': {'b': <class 'int'>, 'a': (<class 'NoneType'>, <class 'int'>, <class 'float'>, <class 'complex'>, <class 'bool'>, <class 'str'>, <class 'list'>, <class 'tuple'>, <class 'dict'>, <class 'set'>, <class 'object'>)}, 'declared': ['a', 'b']}\n",
      "MOD ARGS: (15, 15)\n",
      "MOD KWARGS: {}\n"
     ]
    }
   ],
   "source": [
    "# call the function and see what happens\n",
    "result = debug(15,15)"
   ]
  },
  {
   "cell_type": "markdown",
   "metadata": {},
   "source": [
    "Wooooh... that's a lot of info, but just bare with me for a second. <br>\n",
    "<br>\n",
    "When you inspect the `SORTED` more closely, you can see that there is the keyword `hinting`. <br>\n",
    "This is actually what **tcheasy** sees when it inspects your function at runtime. <br>\n",
    "Within this dict, you can see only one type for `b`, but a lot for `a`. To be specific: basically every supported type. You can check it if you don't believe me ;-)"
   ]
  },
  {
   "cell_type": "markdown",
   "metadata": {},
   "source": [
    "<br>\n",
    "<br>\n",
    "\n",
    "## Add 'or' hints\n",
    "\n",
    "You are also able to add multiple types (or `Any`) for a positional parameter. <br>\n",
    "To do this, you have to import python's `typing` module:"
   ]
  },
  {
   "cell_type": "code",
   "execution_count": 15,
   "metadata": {},
   "outputs": [],
   "source": [
    "# import typing\n",
    "import typing"
   ]
  },
  {
   "cell_type": "markdown",
   "metadata": {},
   "source": [
    "From there on you can use the `Union` to specify multiple possible types. <br>\n",
    "Keep in mind that **tcheasy** chan only work with the supported types though!"
   ]
  },
  {
   "cell_type": "code",
   "execution_count": 16,
   "metadata": {},
   "outputs": [],
   "source": [
    "# function with union\n",
    "@tcheasy()\n",
    "def with_union(u:typing.Union[str,int], b:typing.Any) -> bool:\n",
    "    \"\"\"Function which returns True\"\"\"\n",
    "    return True"
   ]
  },
  {
   "cell_type": "code",
   "execution_count": 17,
   "metadata": {},
   "outputs": [
    {
     "data": {
      "text/plain": [
       "True"
      ]
     },
     "execution_count": 17,
     "metadata": {},
     "output_type": "execute_result"
    }
   ],
   "source": [
    "# call it with correct types\n",
    "with_union(u=\"hallo\", b=None)"
   ]
  },
  {
   "cell_type": "code",
   "execution_count": 18,
   "metadata": {},
   "outputs": [
    {
     "data": {
      "text/plain": [
       "True"
      ]
     },
     "execution_count": 18,
     "metadata": {},
     "output_type": "execute_result"
    }
   ],
   "source": [
    "# again correct\n",
    "with_union(u=1, b=True)"
   ]
  },
  {
   "cell_type": "code",
   "execution_count": 19,
   "metadata": {},
   "outputs": [
    {
     "data": {
      "text/plain": [
       "{'success': False,\n",
       " 'error': \"[K.2]: The parameter 'u' needs to be a(n) str | int.\"}"
      ]
     },
     "execution_count": 19,
     "metadata": {},
     "output_type": "execute_result"
    }
   ],
   "source": [
    "# now its the wrong type\n",
    "with_union(u=.1, b=.1)"
   ]
  },
  {
   "cell_type": "markdown",
   "metadata": {},
   "source": [
    "Did you notice that somehow no argument that we entered for `b` was considered as wrong? Thats because we did use the `Any` type which is actually every supported type (and thus pretty boring to use)."
   ]
  },
  {
   "cell_type": "markdown",
   "metadata": {},
   "source": [
    "<br>\n",
    "<br>\n",
    "\n",
    "# It's a wrap!\n",
    "\n",
    "That's it for now. In this little example you learned the basic usage of **tcheasy** and its restrictions when running it with the python type hinting module. <br>\n",
    "\n",
    "<br>\n",
    "\n",
    "<p style='color:gray'><small><em>PS: did you notice that none of the input checks did actually brick the jupyter notebook when running it all? Thats because <b>tcheasy</b> translates every exception into those dict returns :-) </em></small></p>"
   ]
  }
 ],
 "metadata": {
  "interpreter": {
   "hash": "879c4244b5fbd76ffd9069a4ae3a78b7ab800166b9047b1f85c795ac58e543af"
  },
  "kernelspec": {
   "display_name": "Python 3 (ipykernel)",
   "language": "python",
   "name": "python3"
  },
  "language_info": {
   "codemirror_mode": {
    "name": "ipython",
    "version": 3
   },
   "file_extension": ".py",
   "mimetype": "text/x-python",
   "name": "python",
   "nbconvert_exporter": "python",
   "pygments_lexer": "ipython3",
   "version": "3.8.5"
  }
 },
 "nbformat": 4,
 "nbformat_minor": 2
}
